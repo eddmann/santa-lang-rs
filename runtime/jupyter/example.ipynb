{
 "cells": [
  {
   "cell_type": "markdown",
   "metadata": {},
   "source": [
    "<img src=\"https://eddmann.com/santa-lang/assets/logo.png\" width=\"450\" />\n",
    "\n",
    "# santa-lang"
   ]
  },
  {
   "cell_type": "markdown",
   "metadata": {},
   "source": [
    "This notebook documents usage of `santa-lang` within a Jupyter environment.\n",
    "[Find out more](https://eddmann.com/santa-lang/) about what the langauge has to offer."
   ]
  },
  {
   "cell_type": "markdown",
   "metadata": {},
   "source": [
    "## Types"
   ]
  },
  {
   "cell_type": "code",
   "execution_count": 1,
   "metadata": {
    "vscode": {
     "languageId": "rust"
    }
   },
   "outputs": [
    {
     "data": {
      "text/plain": [
       "nil"
      ]
     },
     "execution_count": 1,
     "metadata": {},
     "output_type": "execute_result"
    },
    {
     "data": {
      "text/html": [
       "<sub>Elapsed time: 0.00 seconds.</sub>"
      ]
     },
     "execution_count": 1,
     "metadata": {},
     "output_type": "execute_result"
    }
   ],
   "source": [
    "let integer = 1;\n",
    "let decimal = 1.5;\n",
    "let string = \"Hello, world!\";\n",
    "let exclusive_range = 1..5;\n",
    "let inclusive_range = 1..=5;\n",
    "let infinite_range = 1..;\n",
    "let list = [1, 2, 3];\n",
    "let set = {1, 2, 3};\n",
    "let dictionary = #{\"a\": 1, \"b\": 2};\n",
    "nil"
   ]
  },
  {
   "cell_type": "code",
   "execution_count": 2,
   "metadata": {
    "vscode": {
     "languageId": "rust"
    }
   },
   "outputs": [
    {
     "data": {
      "text/plain": [
       "\"Hello, world!3.55.54.56.5\""
      ]
     },
     "execution_count": 2,
     "metadata": {},
     "output_type": "execute_result"
    },
    {
     "data": {
      "text/html": [
       "<sub>Elapsed time: 0.00 seconds.</sub>"
      ]
     },
     "execution_count": 2,
     "metadata": {},
     "output_type": "execute_result"
    }
   ],
   "source": [
    "union(list, set, values(dictionary), exclusive_range, inclusive_range)\n",
    "  |> filter(_ > integer)\n",
    "  |> map(decimal + _)\n",
    "  |> fold(string, +)"
   ]
  },
  {
   "cell_type": "markdown",
   "metadata": {},
   "source": [
    "### Lazy Sequences"
   ]
  },
  {
   "cell_type": "code",
   "execution_count": 3,
   "metadata": {
    "vscode": {
     "languageId": "rust"
    }
   },
   "outputs": [
    {
     "data": {
      "text/plain": [
       "[2, 4, 6, 8, 10]"
      ]
     },
     "execution_count": 3,
     "metadata": {},
     "output_type": "execute_result"
    },
    {
     "data": {
      "text/html": [
       "<sub>Elapsed time: 0.00 seconds.</sub>"
      ]
     },
     "execution_count": 3,
     "metadata": {},
     "output_type": "execute_result"
    }
   ],
   "source": [
    "1.. |> filter(|n| n % 2 == 0) |> take(5);"
   ]
  },
  {
   "cell_type": "code",
   "execution_count": 4,
   "metadata": {
    "vscode": {
     "languageId": "rust"
    }
   },
   "outputs": [
    {
     "data": {
      "text/plain": [
       "[42, 2]"
      ]
     },
     "execution_count": 4,
     "metadata": {},
     "output_type": "execute_result"
    },
    {
     "data": {
      "text/html": [
       "<sub>Elapsed time: 0.00 seconds.</sub>"
      ]
     },
     "execution_count": 4,
     "metadata": {},
     "output_type": "execute_result"
    }
   ],
   "source": [
    "let lazy_seq = zip(1.., 2..) |> map(|[x, y]| x * y);\n",
    "\n",
    "[\n",
    "  lazy_seq |> skip(5) |> first,\n",
    "  lazy_seq |> first\n",
    "];"
   ]
  },
  {
   "cell_type": "code",
   "execution_count": 5,
   "metadata": {
    "vscode": {
     "languageId": "rust"
    }
   },
   "outputs": [
    {
     "data": {
      "text/plain": [
       "[13, 21]"
      ]
     },
     "execution_count": 5,
     "metadata": {},
     "output_type": "execute_result"
    },
    {
     "data": {
      "text/html": [
       "<sub>Elapsed time: 0.00 seconds.</sub>"
      ]
     },
     "execution_count": 5,
     "metadata": {},
     "output_type": "execute_result"
    }
   ],
   "source": [
    "iterate(|[a, b]| [b, a + b], [0, 1]) |> find(|[a]| a > 10);"
   ]
  },
  {
   "cell_type": "code",
   "execution_count": 6,
   "metadata": {
    "vscode": {
     "languageId": "rust"
    }
   },
   "outputs": [
    {
     "data": {
      "text/plain": [
       "[2, 3, 1]"
      ]
     },
     "execution_count": 6,
     "metadata": {},
     "output_type": "execute_result"
    },
    {
     "data": {
      "text/html": [
       "<sub>Elapsed time: 0.00 seconds.</sub>"
      ]
     },
     "execution_count": 6,
     "metadata": {},
     "output_type": "execute_result"
    }
   ],
   "source": [
    "cycle([1, 2, 3]) |> skip(1) |> take(3);"
   ]
  },
  {
   "cell_type": "code",
   "execution_count": 7,
   "metadata": {
    "vscode": {
     "languageId": "rust"
    }
   },
   "outputs": [
    {
     "data": {
      "text/plain": [
       "[\"a\", \"a\", \"a\"]"
      ]
     },
     "execution_count": 7,
     "metadata": {},
     "output_type": "execute_result"
    },
    {
     "data": {
      "text/html": [
       "<sub>Elapsed time: 0.00 seconds.</sub>"
      ]
     },
     "execution_count": 7,
     "metadata": {},
     "output_type": "execute_result"
    }
   ],
   "source": [
    "repeat(\"a\") |> take(3);"
   ]
  },
  {
   "cell_type": "markdown",
   "metadata": {},
   "source": [
    "## Variables"
   ]
  },
  {
   "cell_type": "code",
   "execution_count": 8,
   "metadata": {
    "vscode": {
     "languageId": "rust"
    }
   },
   "outputs": [
    {
     "data": {
      "text/plain": [
       "4"
      ]
     },
     "execution_count": 8,
     "metadata": {},
     "output_type": "execute_result"
    },
    {
     "data": {
      "text/html": [
       "<sub>Elapsed time: 0.00 seconds.</sub>"
      ]
     },
     "execution_count": 8,
     "metadata": {},
     "output_type": "execute_result"
    }
   ],
   "source": [
    "let x = 1;\n",
    "\n",
    "let mut y = 2;\n",
    "y = 3;\n",
    "\n",
    "x + y"
   ]
  },
  {
   "cell_type": "markdown",
   "metadata": {},
   "source": [
    "## Operators"
   ]
  },
  {
   "cell_type": "code",
   "execution_count": 9,
   "metadata": {
    "vscode": {
     "languageId": "rust"
    }
   },
   "outputs": [
    {
     "data": {
      "text/plain": [
       "[2, 3, 4.75, 2.5, \"ab\", [1, 2, 3], {1, 2}, #{1: \"one\", 2: \"two\"}, {2}, \"aaa\", [\"a\", \"a\"]]"
      ]
     },
     "execution_count": 9,
     "metadata": {},
     "output_type": "execute_result"
    },
    {
     "data": {
      "text/html": [
       "<sub>Elapsed time: 0.00 seconds.</sub>"
      ]
     },
     "execution_count": 9,
     "metadata": {},
     "output_type": "execute_result"
    }
   ],
   "source": [
    "[\n",
    "  1 + 1,\n",
    "  1 + 2.5,\n",
    "  1.5 + 3.25,\n",
    "  1.5 + 1,\n",
    "  \"a\" + \"b\",\n",
    "  [1] + [2, 3],\n",
    "  {1} + {1, 2},\n",
    "  #{1: \"one\"} + #{2: \"two\"},\n",
    "  {1, 2} - {1},\n",
    "  \"a\" * 3,\n",
    "  [\"a\"] * 2\n",
    "]"
   ]
  },
  {
   "cell_type": "markdown",
   "metadata": {},
   "source": [
    "## Indexing"
   ]
  },
  {
   "cell_type": "code",
   "execution_count": 10,
   "metadata": {
    "vscode": {
     "languageId": "rust"
    }
   },
   "outputs": [
    {
     "data": {
      "text/plain": [
       "[1, 4, [2], [2, 1, 4]]"
      ]
     },
     "execution_count": 10,
     "metadata": {},
     "output_type": "execute_result"
    },
    {
     "data": {
      "text/html": [
       "<sub>Elapsed time: 0.00 seconds.</sub>"
      ]
     },
     "execution_count": 10,
     "metadata": {},
     "output_type": "execute_result"
    }
   ],
   "source": [
    "let numbers = [1, 2, 3, 4];\n",
    "\n",
    "[numbers[0], numbers[-1], numbers[1..2], numbers[1..=-1]]"
   ]
  },
  {
   "cell_type": "code",
   "execution_count": 11,
   "metadata": {
    "vscode": {
     "languageId": "rust"
    }
   },
   "outputs": [
    {
     "data": {
      "text/plain": [
       "1"
      ]
     },
     "execution_count": 11,
     "metadata": {},
     "output_type": "execute_result"
    },
    {
     "data": {
      "text/html": [
       "<sub>Elapsed time: 0.00 seconds.</sub>"
      ]
     },
     "execution_count": 11,
     "metadata": {},
     "output_type": "execute_result"
    }
   ],
   "source": [
    "let lookup = #{\"a\": 1, \"b\": 2};\n",
    "\n",
    "lookup[\"a\"]"
   ]
  },
  {
   "cell_type": "code",
   "execution_count": 12,
   "metadata": {
    "vscode": {
     "languageId": "rust"
    }
   },
   "outputs": [
    {
     "data": {
      "text/plain": [
       "[\"h\", \"o\", \"e\", \"eho\"]"
      ]
     },
     "execution_count": 12,
     "metadata": {},
     "output_type": "execute_result"
    },
    {
     "data": {
      "text/html": [
       "<sub>Elapsed time: 0.00 seconds.</sub>"
      ]
     },
     "execution_count": 12,
     "metadata": {},
     "output_type": "execute_result"
    }
   ],
   "source": [
    "let chars = \"hello\";\n",
    "\n",
    "[chars[0], chars[-1], chars[1..2], chars[1..=-1]]"
   ]
  },
  {
   "cell_type": "markdown",
   "metadata": {},
   "source": [
    "## Functions"
   ]
  },
  {
   "cell_type": "code",
   "execution_count": 13,
   "metadata": {
    "vscode": {
     "languageId": "rust"
    }
   },
   "outputs": [
    {
     "data": {
      "text/plain": [
       "5"
      ]
     },
     "execution_count": 13,
     "metadata": {},
     "output_type": "execute_result"
    },
    {
     "data": {
      "text/html": [
       "<sub>Elapsed time: 0.00 seconds.</sub>"
      ]
     },
     "execution_count": 13,
     "metadata": {},
     "output_type": "execute_result"
    }
   ],
   "source": [
    "let inc_a = |a| { a + 1 };\n",
    "let inc_b = |a| a + 1;\n",
    "let inc_c = _ + 1;\n",
    "let inc_d = 1 + _;\n",
    "\n",
    "1 |> inc_a |> inc_b |> inc_c |> inc_d"
   ]
  },
  {
   "cell_type": "code",
   "execution_count": 14,
   "metadata": {
    "vscode": {
     "languageId": "rust"
    }
   },
   "outputs": [
    {
     "data": {
      "text/plain": [
       "256"
      ]
     },
     "execution_count": 14,
     "metadata": {},
     "output_type": "execute_result"
    },
    {
     "data": {
      "text/html": [
       "<sub>Elapsed time: 0.00 seconds.</sub>"
      ]
     },
     "execution_count": 14,
     "metadata": {},
     "output_type": "execute_result"
    }
   ],
   "source": [
    "let inc_dbl = inc_a >> |x| x * x;\n",
    "\n",
    "inc_dbl(15);"
   ]
  },
  {
   "cell_type": "code",
   "execution_count": 15,
   "metadata": {
    "vscode": {
     "languageId": "rust"
    }
   },
   "outputs": [
    {
     "data": {
      "text/plain": [
       "3628800"
      ]
     },
     "execution_count": 15,
     "metadata": {},
     "output_type": "execute_result"
    },
    {
     "data": {
      "text/html": [
       "<sub>Elapsed time: 0.00 seconds.</sub>"
      ]
     },
     "execution_count": 15,
     "metadata": {},
     "output_type": "execute_result"
    }
   ],
   "source": [
    "let factorial = |n| if n == 0 { 1 } else { n * factorial(n - 1) };\n",
    "\n",
    "factorial(10);"
   ]
  },
  {
   "cell_type": "code",
   "execution_count": 16,
   "metadata": {
    "vscode": {
     "languageId": "rust"
    }
   },
   "outputs": [
    {
     "data": {
      "text/plain": [
       "55"
      ]
     },
     "execution_count": 16,
     "metadata": {},
     "output_type": "execute_result"
    },
    {
     "data": {
      "text/html": [
       "<sub>Elapsed time: 0.00 seconds.</sub>"
      ]
     },
     "execution_count": 16,
     "metadata": {},
     "output_type": "execute_result"
    }
   ],
   "source": [
    "let fibonacci = |n| match n {\n",
    "  0 { 0 }\n",
    "  1 { 1 }\n",
    "  n { fibonacci(n - 1) + fibonacci(n - 2) }\n",
    "};\n",
    "\n",
    "fibonacci(10);"
   ]
  },
  {
   "cell_type": "code",
   "execution_count": 17,
   "metadata": {
    "vscode": {
     "languageId": "rust"
    }
   },
   "outputs": [
    {
     "data": {
      "text/plain": [
       "3"
      ]
     },
     "execution_count": 17,
     "metadata": {},
     "output_type": "execute_result"
    },
    {
     "data": {
      "text/html": [
       "<sub>Elapsed time: 0.00 seconds.</sub>"
      ]
     },
     "execution_count": 17,
     "metadata": {},
     "output_type": "execute_result"
    }
   ],
   "source": [
    "let max = |..xs| xs |> sort(<) |> first;\n",
    "\n",
    "max(..[1, 2, 3]);"
   ]
  }
 ],
 "metadata": {
  "kernelspec": {
   "display_name": "santa-lang",
   "language": "santa-lang",
   "name": "santa-lang"
  },
  "language_info": {
   "codemirror_mode": "rust",
   "file_extension": ".santa",
   "mimetype": "text/santa",
   "name": "santa-lang",
   "nbconvert_exporter": "rust",
   "pygment_lexer": "rust",
   "version": "0.0.3"
  },
  "orig_nbformat": 4
 },
 "nbformat": 4,
 "nbformat_minor": 2
}
